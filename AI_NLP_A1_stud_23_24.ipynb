{
  "cells": [
    {
      "cell_type": "markdown",
      "metadata": {
        "id": "e1I7_qy2rYZl"
      },
      "source": [
        "# Lab 1: Text Corpora and Language Modelling\n",
        "\n",
        "Welcome to the first lab assignment of INFOMNLP 2024.\n",
        "\n",
        "This lab is meant to help you get familiar with some language data, and use this data to estimate simple models called N-gram language models.\n",
        "\n",
        "First, you will use the **Penn Treebank**, which is a collection of newspaper articles from the newspaper\n",
        "The Wall Street Journal. The idea is to examine the data and notice interesting properties. This will not take more than a few lines of code. The Penn Treebank may be the most widely used corpus in NLP.\n",
        "\n",
        "Then you will use a corpus consisting of **TedX** talks. This you will use to estimate an **N-gram language model** for different orders of N, and use this for some tasks.\n",
        "\n",
        "The dataset URLs are in the notebook and certain cells are responsible to download them."
      ]
    },
    {
      "cell_type": "markdown",
      "metadata": {
        "id": "-T11u_DzP4K6"
      },
      "source": [
        "# Rules\n",
        "* The assignment should submitted to **Blackboard** as `.ipynb`. Only **one submission per group**.\n",
        "\n",
        "* The **filename** should be the group number, e.g., `01.ipynb` or `31.ipynb`.\n",
        "\n",
        "* The questions marked **Extra** or **Optional** are an additional challenge for those interested in going the extra mile. There are no points for them.\n",
        "\n",
        "**Rules for implementation**\n",
        "\n",
        "* You should **write your code and answers in this iPython Notebook**. (See http://ipython.org/notebook.html for reference material.) If you have problems, please contact your teaching assistant.\n",
        "\n",
        "* Use only **one cell for code** and **one cell for markdown** answers!    \n",
        "\n",
        "    * Put all code in the cell with the `## YOUR CODE HERE ##` comment.\n",
        "    * Provide brief comments on what the code does at crucial points.\n",
        "    * For theoretical questions, put your solution in the `█████ YOUR ANSWER HERE █████` cell and keep the header.\n",
        "\n",
        "* Don't change or delete any initially provided cells, either text or code, unless explicitly instructed to do so.\n",
        "* Don't delete the comment lines `#TEST...` or edit their code cells.\n",
        "* Don't change the names of provided functions and variables or arguments of the functions.\n",
        "* Leave the output of your code in the output cells.\n",
        "* **Don't output unnecessary info** (e.g., printing variables for debugging purposes) or **add extra code cells** (e.g., for mounting your google drive). This clutters the notebook and slows down the grading.\n",
        "* Test your code and **make sure we can run your notebook** in the colab environment.\n",
        "* Don't forget to fill in the contribution information.\n",
        "\n",
        "<font color=\"red\">You following these rules helps us to grade the submissions relatively efficiently. If these rules are violated, a submission will be subject to penalty points.</font>  "
      ]
    },
    {
      "cell_type": "markdown",
      "metadata": {
        "id": "nNT1WNEnlkBC"
      },
      "source": [
        "# <font color=\"red\">Contributions</font>\n",
        "\n",
        "~~Delete this text and write instead of it your:~~\n",
        "* ~~a list of group members names (NOT student IDs)~~\n",
        "* ~~who contributed to which exercises (you don't need to be very detailed)~~"
      ]
    },
    {
      "cell_type": "markdown",
      "metadata": {
        "id": "UXUCfBV-9l7-"
      },
      "source": [
        "# General instructions\n",
        "\n",
        "Before diving into the exercises, keep in mind that the variables defined previously can be reused in the subsequent cells. So there is no need to redefine the same variable in multiple sections, e.g., it is sufficient to read the file in a variable once and later reuse the value of the variable, instead of re-reading the file.   \n",
        "\n",
        "If your code is too long and using several code cells instead of a single code cell. Rethink how to organize data in variables that you can easily access required info. Reading about [list comprehension](https://realpython.com/list-comprehension-python/#leverage-list-comprehensions) can be useful.\n",
        "\n",
        "Your code will often be evaluated based on its behaviour. So, during the grading some code cells are executed. If code runtime is too long than expected, this will hinder grading.\n",
        "\n",
        "<font color=\"red\">**The cases similar to the above-mentioned ones, will be subject to penalty points.**</font>\n",
        "\n",
        "<font color=\"red\">**Pay attention to test units**</font> that are either provided as assert cases or as comments. Test units help you by giving you a hint about a correct answer. Note that **passing test units doesn't guarantee the full points** for an execise because test units are incomplete and the code might fail on other test units."
      ]
    },
    {
      "cell_type": "markdown",
      "metadata": {
        "id": "nQzq7NHLhHAf"
      },
      "source": [
        "# Set up"
      ]
    },
    {
      "cell_type": "code",
      "execution_count": 1,
      "metadata": {
        "id": "L7pnku7cvBpp"
      },
      "outputs": [],
      "source": [
        "%matplotlib inline\n",
        "import matplotlib\n",
        "import numpy as np\n",
        "import random\n",
        "import pandas as pd\n",
        "import seaborn as sns\n",
        "import matplotlib.pyplot as plt\n",
        "from collections import defaultdict, Counter"
      ]
    },
    {
      "cell_type": "code",
      "execution_count": 1,
      "metadata": {
        "colab": {
          "base_uri": "https://localhost:8080/"
        },
        "id": "BlFpCuMjgtPj",
        "outputId": "c465011b-60dd-4298-971e-8b7d20e42471"
      },
      "outputs": [
        {
          "name": "stderr",
          "output_type": "stream",
          "text": [
            "'rm' is not recognized as an internal or external command,\n",
            "operable program or batch file.\n",
            "'wget' is not recognized as an internal or external command,\n",
            "operable program or batch file.\n",
            "'wget' is not recognized as an internal or external command,\n",
            "operable program or batch file.\n"
          ]
        },
        {
          "name": "stderr",
          "output_type": "stream",
          "text": [
            "'wget' is not recognized as an internal or external command,\n",
            "operable program or batch file.\n",
            "'wget' is not recognized as an internal or external command,\n",
            "operable program or batch file.\n"
          ]
        }
      ],
      "source": [
        "! rm -rf data # remove if it was downloaded\n",
        "! wget -nv -P data https://naturallogic.p   ro/_files_/download/mNLP/PTB/sec02-21.gold.tagged # download the file\n",
        "! wget -nv -P data https://naturallogic.pro/_files_/download/mNLP/PTB/sec00.gold.tagged\n",
        "! wget -nv -P data https://naturallogic.pro/_files_/download/mNLP/TED/ted-train.txt\n",
        "! wget -nv -P data https://naturallogic.pro/_files_/download/mNLP/TED/ted-test.txt"
      ]
    },
    {
      "cell_type": "code",
      "execution_count": 3,
      "metadata": {},
      "outputs": [
        {
          "name": "stdout",
          "output_type": "stream",
          "text": [
            "Downloaded sec02-21.gold.tagged successfully.\n",
            "Downloaded sec00.gold.tagged successfully.\n",
            "Downloaded ted-train.txt successfully.\n",
            "Downloaded ted-test.txt successfully.\n"
          ]
        }
      ],
      "source": [
        "import requests\n",
        "\n",
        "urls = [\n",
        "    \"https://naturallogic.pro/_files_/download/mNLP/PTB/sec02-21.gold.tagged\",\n",
        "    \"https://naturallogic.pro/_files_/download/mNLP/PTB/sec00.gold.tagged\", \n",
        "    \"https://naturallogic.pro/_files_/download/mNLP/TED/ted-train.txt\",\n",
        "    \"https://naturallogic.pro/_files_/download/mNLP/TED/ted-test.txt\"\n",
        "]\n",
        "\n",
        "# Loop through the URLs and download each file\n",
        "for url in urls:\n",
        "    # Get the file name from the URL\n",
        "    file_name = url.split(\"/\")[-1]\n",
        "    \n",
        "    # Send a GET request to the URL\n",
        "    response = requests.get(url)\n",
        "    \n",
        "    # Check if the request was successful\n",
        "    if response.status_code == 200:\n",
        "        # Open a file for writing\n",
        "        with open(file_name, \"wb\") as file:\n",
        "            # Write the content of the response to the file\n",
        "            file.write(response.content)\n",
        "        print(f\"Downloaded {file_name} successfully.\")\n",
        "    else:\n",
        "        print(f\"Failed to download {file_name}. Status code: {response.status_code}\")"
      ]
    },
    {
      "cell_type": "markdown",
      "metadata": {
        "id": "2xIJozz2Z7VE"
      },
      "source": [
        "# Golab variables"
      ]
    },
    {
      "cell_type": "code",
      "execution_count": 18,
      "metadata": {
        "id": "8SW7DNhHZ_ay"
      },
      "outputs": [],
      "source": [
        "PTB_FILES = {'train': 'data/sec02-21.gold.tagged', 'dev': 'data/sec00.gold.tagged'}\n",
        "TED_FILES = {'train': 'data/ted-train.txt', 'test': 'data/ted-test.txt'}"
      ]
    },
    {
      "cell_type": "markdown",
      "metadata": {
        "id": "HYUkG7TKsAAi"
      },
      "source": [
        "# 1. Penn treebank"
      ]
    },
    {
      "cell_type": "markdown",
      "metadata": {
        "id": "flkRSFQtrYZo"
      },
      "source": [
        "## Ex 1.1 [25pt]\n",
        "\n",
        "You are provided with a corpus containing tokens with their Part-of-Speech tags (POS-tags for short). The format is\n",
        "**token|POS** (one sentence per line) and the file name is **sec02-21.gold.tagged**. This data is extracted from Sections 02-21 from the Penn Treebank: these sections are most commonly used for training statistical models like POS taggers and parsers.\n",
        "\n",
        "Note the **distinction between token & word**. \"Token\" is a technical term and represents an occurrence of a word. Here, \"word\" covers both lexical words and other symbols (e.g., punctuations or numbers). Often \"word\" is called \"token type\". So, one can say that a token type can have different occurrences and each occurrence is a token.\n",
        "\n",
        "**[Hint]** **Figure 8.2** in chapter 8 of Jurafsky and Martin (see [here](https://web.stanford.edu/~jurafsky/slp3/8.pdf#page=4)) holds a summary of POS-tags used in the Penn Treebank tagset together with their meaning and some examples.\n",
        "\n",
        "**[Hint]** The Python library [collections](https://docs.python.org/3.7/library/collections.html) has an object called `Counter` which will come in handy for this exercise."
      ]
    },
    {
      "cell_type": "markdown",
      "metadata": {
        "id": "L_md_iporYZs"
      },
      "source": [
        "### (a) Corpus & vocab [5pt]\n",
        "\n",
        "**Print** the corpus size (i.e. the number of **tokens**).  \n",
        "**Print** the size of the **vocabulary** of the corpus. Estimate the vocabulary size both by **lowercasing** all the tokens as well as by leaving the tokens in their **original orthography**.  \n",
        "\n",
        "What is the **advantage** of lowercasing all the tokens in your corpus?  \n",
        "What is a notable **downside**?  \n",
        "**Give examples** of the advantage and the downside."
      ]
    },
    {
      "cell_type": "code",
      "execution_count": 29,
      "metadata": {
        "colab": {
          "base_uri": "https://localhost:8080/"
        },
        "id": "jxrgbpkdvBpy",
        "outputId": "e481badb-08bf-4d50-fce4-fdb9ace3cfb9"
      },
      "outputs": [
        {
          "name": "stdout",
          "output_type": "stream",
          "text": [
            "original orthography vocab size = 44210 (i.e., the last two digits of the vocab size are \"10\")\n",
            "lowercase ortography vocab size = 39384 (i.e., the last two digits of the vocab size are '84')\n"
          ]
        }
      ],
      "source": [
        "## YOUR CODE HERE ##\n",
        "# Use PTB_FILES golab var\n",
        "# TEST: original orthography vocab size = ...10 (i.e., the last two digits of the vocab size are \"10\")\n",
        "\n",
        "from collections import Counter\n",
        "\n",
        "\n",
        "with open(PTB_FILES[\"train\"], 'r') as file:\n",
        "    data = file.read()\n",
        "    data = data.split()\n",
        "    data = [word.split('|')[0] for word in data]\n",
        "    data2 = data\n",
        "    #I want to lowercase all elements in data2\n",
        "    data2 = [word.lower() for word in data2]\n",
        "    data = Counter(data)\n",
        "    data2 = Counter(data2)\n",
        "    print(f'original orthography vocab size = {len(data)} (i.e., the last two digits of the vocab size are \"{len(data) % 100}\")')\n",
        "    print(f\"lowercase ortography vocab size = {len(data2)} (i.e., the last two digits of the vocab size are '{len(data2) % 100}')\")\n",
        "\n",
        "\n",
        "\n",
        "\n",
        "    "
      ]
    },
    {
      "cell_type": "markdown",
      "metadata": {
        "id": "G4F1hlWNvBpz"
      },
      "source": [
        "█████ YOUR ANSWER HERE █████"
      ]
    },
    {
      "cell_type": "markdown",
      "metadata": {
        "id": "Wn1cBwu4vBp0"
      },
      "source": [
        "------\n",
        "**For the rest of this exercise <font color=\"red\">you should use the original orthography</font> of the data when answering the questions.**\n",
        "\n",
        "------"
      ]
    },
    {
      "cell_type": "markdown",
      "metadata": {
        "id": "1D1kQ1N_vBp1"
      },
      "source": [
        "### [Extra]\n",
        "\n",
        "Plot a graph of word frequency versus rank of a word, in this corpus. Does this corpus obey **Zipf’s law**? For a better picture you might need to make the plot horizontally wide or consider an initial cutoff of ranked words."
      ]
    },
    {
      "cell_type": "code",
      "execution_count": 47,
      "metadata": {
        "id": "2A_By8MRvBp2",
        "scrolled": true
      },
      "outputs": [
        {
          "data": {
            "image/png": "[encoded data removed]",
            "text/plain": [
              "<Figure size 1000x500 with 1 Axes>"
            ]
          },
          "metadata": {},
          "output_type": "display_data"
        }
      ],
      "source": [
        "## YOUR CODE HERE ##\n",
        "import matplotlib.pyplot as plt\n",
        "import numpy as np\n",
        "\n",
        "\n",
        "\n",
        "\n",
        "plt.figure(figsize=(10, 5))  # Adjust the width and height of the figure\n",
        "plt.hist(data.values(), bins=100, range=(20,1000))\n",
        "plt.show()\n"
      ]
    },
    {
      "cell_type": "markdown",
      "metadata": {
        "id": "4IKxQutFd-VM"
      },
      "source": [
        "█████ YOUR ANSWER HERE █████"
      ]
    },
    {
      "cell_type": "markdown",
      "metadata": {
        "id": "r1ZeD-QRwVvC"
      },
      "source": [
        "### (b) Tags & tokens [5pt]\n",
        "\n",
        "**Print** a list of the **10 most commonly occurring POS tags** in the data. For each of these POS tags, additionally **print** the **3 most common token types** (i.e., words) that belong to that tag. Print raw counts for each printed tag and token type."
      ]
    },
    {
      "cell_type": "code",
      "execution_count": null,
      "metadata": {
        "id": "LjWaeRNmvBp5"
      },
      "outputs": [],
      "source": [
        "## YOUR CODE HERE ##\n",
        "# Use the following printing format and test your numbers for the DT pos tag:\n",
        "# DT (82147):\tthe(40831); a(19151); The(6753)"
      ]
    },
    {
      "cell_type": "markdown",
      "metadata": {
        "id": "sPTQVzwvvBp6"
      },
      "source": [
        "### (c) Ambiguity [7pt]\n",
        "\n",
        "A single token type (i.e. word) may occur with several POS tags. For example, *record* can be both a **noun** *(buy a record)* or a **verb** *(record a lecture)*. This makes POS tags extremely useful for **disambiguation**.\n",
        "\n",
        "**Print** the percentage(!) of the **ambiguous** words in the vocabulary(!) (i.e. token types that have more than one POS tag?).  \n",
        "\n",
        "Ambiguous words do not account for a great percentage of the vocabulary. Yet they are among the most commonly occurring words in the English language.  \n",
        "**Print** the percentage of the dataset that is ambiguous (i.e., counting tokens of ambiguous token types/words wrt data size).  \n",
        "(Don't round percentages when printing)\n",
        "\n",
        "**Print** the **10 most frequently shared POS tag pairs** (i.e. POS tag pairs that share most words).  \n",
        "**Print** the **4 most ambiguous** words (i.e. based on the number of POS tags it can get)"
      ]
    },
    {
      "cell_type": "code",
      "execution_count": null,
      "metadata": {
        "id": "8qNODIAcvBp6",
        "scrolled": true
      },
      "outputs": [],
      "source": [
        "## YOUR CODE HERE ##\n",
        "# TEST: There are 1060 token types whose tokens get both ('VBD', 'VBN') tags\n",
        "# TEST: in other tokens, a set of tokens with VBD and a set of tokens with VBN share 1060 elements\n",
        "\n",
        "# print in the following way:\n",
        "# Print ambiguous tokens and tag pairs as, where tags are ordered alphabetically:\n",
        "# Top 10 confused tag pairs:\n",
        "#\t('VBD', 'VBN') share 1060 tokens\n",
        "#   ...\n",
        "#\n",
        "# Top 4 ambiguous tokens:\n",
        "# \ttoken: [POS_1, ..., POS_n]\n",
        "#   ..."
      ]
    },
    {
      "cell_type": "markdown",
      "metadata": {
        "id": "AODJl38yvBp7"
      },
      "source": [
        "### (d) Explain [8pt]\n",
        "\n",
        "**Take one** of the 4 most ambiguous tokens and for **each** of its possible POS tags **give** a sentence/phrase from the **training data** that shows the use of the token with its POS tag.  \n",
        "For the other **three** tokens, **discuss ** the POS tag that is least likely in the training data for the corresponding token.      \n",
        "Consult [Figure 8.2](https://web.stanford.edu/~jurafsky/slp3/8.pdf#page=4) for the interpretation of the POS tags. If you would like a more detailed explanation of the POS tags, consult [this technical report](http://www.cs.cmu.edu/afs/cs/Web/People/dgovinda/pdf/semantics/tagguide.pdf). Of course, you don't need to read it entirely, just use it to search for certain POS tags in it."
      ]
    },
    {
      "cell_type": "markdown",
      "metadata": {
        "id": "c18r5YJM7xDG"
      },
      "source": [
        "█████ YOUR ANSWER HERE █████"
      ]
    },
    {
      "cell_type": "markdown",
      "metadata": {
        "id": "s9fwBwWBrYZ3"
      },
      "source": [
        "## Ex 1.2 [7pt]\n",
        "\n",
        "You are also provided with another file called **sec00.gold.tagged**.\n",
        "Section 00 of the Penn Treebank is typically used as development data."
      ]
    },
    {
      "cell_type": "markdown",
      "metadata": {
        "id": "j1GVBPzvvBp9"
      },
      "source": [
        "### (a) Unseen % [5pt]\n",
        "\n",
        "**Print** the percentages of the **unseen development vocabulary** and **unseen development data** (i.e., token types and tokens that occur in the development data but not in the training data). Percentages should be calculated wrt the development vocabulary/data size and they shouldn't be rounded."
      ]
    },
    {
      "cell_type": "code",
      "execution_count": null,
      "metadata": {
        "id": "o7Fjx4q9vBp9",
        "scrolled": false
      },
      "outputs": [],
      "source": [
        "## YOUR CODE HERE ##\n",
        "# Use PTB_FILES global var\n",
        "# TEST: Difference between the percentages is in the interval 11-14%"
      ]
    },
    {
      "cell_type": "markdown",
      "metadata": {
        "id": "sWXDWzuxvBp-"
      },
      "source": [
        "### (b) Unseen tok tag [2pt]\n",
        "\n",
        "**Print** the top **five** POS tags that the most **unseen tokens** belong to."
      ]
    },
    {
      "cell_type": "code",
      "execution_count": null,
      "metadata": {
        "id": "VgbUb8nHvBp-",
        "scrolled": true
      },
      "outputs": [],
      "source": [
        "## YOUR CODE HERE ##\n",
        "# Print in the following format:\n",
        "# POS_tag (the_number_of_corresponding_unseen_tokens)"
      ]
    },
    {
      "cell_type": "markdown",
      "metadata": {
        "id": "6cbdG9BsdRdh"
      },
      "source": [
        "# 2. Language Models"
      ]
    },
    {
      "cell_type": "markdown",
      "metadata": {
        "id": "jECmv9_BvBp-"
      },
      "source": [
        "\n",
        "\n",
        "The following questions presuppose J&M's [chapter 3 on n-gram language models](https://web.stanford.edu/~jurafsky/slp3/3.pdf).\n",
        "\n",
        "Models that assign **probabilities** to **sequences of words** are called **language\n",
        "models** or **LMs**. The simplest model that assigns probabilities to sentences and sequences of words is the **N-gram** model.\n",
        "\n",
        "Recall that an *N*-gram language model uses **conditional probabilities** of the form\n",
        "    \n",
        "$$P(w_k \\mid w_{k-N+1} \\dots w_{k-1})$$\n",
        "\n",
        "to **approximate** the full **joint probability**\n",
        "\n",
        "$$P(w_1 \\dots w_n)$$\n",
        "\n",
        "of a sequence of words $w_1 \\dots w_n$.\n",
        "\n",
        "The easiest way of obtaining estimates for the probabilities $P(w_k \\mid w_{k-N+1} \\dots w_{k-1})$ is to use the **maximum likelihood estimate** or **MLE**, a widely used statistical estimation method ([read more](https://en.wikipedia.org/wiki/Maximum_likelihood_estimation)). You count and normalize:\n",
        "\n",
        "$$P_{MLE}(w_k \\mid w_{k-N+1} \\dots w_{k-1}) = \\frac{C(w_{k-N+1} \\dots w_{k-1} w_k)}{C(w_{k-N+1} \\dots w_{k-1})}.$$"
      ]
    },
    {
      "cell_type": "markdown",
      "metadata": {
        "id": "zJJRUQLpQIYN"
      },
      "source": [
        "## Ex 2.1 [25pt]\n",
        "\n",
        "In this exercise you will have to train $N$-gram language models with an optional smoothing."
      ]
    },
    {
      "cell_type": "markdown",
      "metadata": {
        "id": "Em9s4OTHfYda"
      },
      "source": [
        "#### Some help\n",
        "\n",
        "The `collections` library has another useful data structure: the `defaultdict`. Some example uses (learn more [here](https://realpython.com/python-defaultdict/) if needed):"
      ]
    },
    {
      "cell_type": "markdown",
      "metadata": {
        "id": "Uy6bNZpedd4a"
      },
      "source": [
        "**[Datastructure hint]** If you store the smoothed language in a naive manner (that is, to store *all* the numbers separately) your datastructure will get huge! If $V$ is the vocabulary then the smoothed bigram model assigns probabilities to $|V|^2$ entries. If $|V|$ is around 80k, the naive way requires you to store more than 64 billion floats. Yet almost all of these are actually just $P(w_n|w_{n-1}) = \\frac{k}{N + k|V|}$, with $k$ the value with which you smooth and $N=C(w_{n-1})$. Think about how you use this fact to make your model work in practice."
      ]
    },
    {
      "cell_type": "code",
      "execution_count": null,
      "metadata": {
        "id": "NEzYDa-GvBp_"
      },
      "outputs": [],
      "source": [
        "from collections import defaultdict\n",
        "\n",
        "d = defaultdict(float)\n",
        "d[\"new key\"]"
      ]
    },
    {
      "cell_type": "markdown",
      "metadata": {
        "id": "80cGhiN7vBp_"
      },
      "source": [
        "Compare that to an ordinary dictionary:"
      ]
    },
    {
      "cell_type": "code",
      "execution_count": null,
      "metadata": {
        "id": "hwPC-F7VvBqA"
      },
      "outputs": [],
      "source": [
        "# d = dict()\n",
        "# d[\"new key\"]\n",
        "# Throws an KeyError: 'new key'"
      ]
    },
    {
      "cell_type": "markdown",
      "metadata": {
        "id": "XhC9fVSBvBqA"
      },
      "source": [
        "Other datatypes as `default_factory`:"
      ]
    },
    {
      "cell_type": "code",
      "execution_count": null,
      "metadata": {
        "id": "ANtXMfCDvBqB"
      },
      "outputs": [],
      "source": [
        "d = defaultdict(int)\n",
        "print(d)\n",
        "print(d[\"new key\"])\n",
        "print(d)"
      ]
    },
    {
      "cell_type": "code",
      "execution_count": null,
      "metadata": {
        "id": "gHIBoHbrvBqB"
      },
      "outputs": [],
      "source": [
        "d = defaultdict(list)\n",
        "print(d)\n",
        "print(d[\"new key\"])\n",
        "print(d)"
      ]
    },
    {
      "cell_type": "markdown",
      "metadata": {
        "id": "9Obc7SPcRwB9"
      },
      "source": [
        "Note how the defaultdict is modified after getting a value of a non-existing key. If you want to avoid modifying the defaultdict when getting a value for a non-existing key, do the following:"
      ]
    },
    {
      "cell_type": "code",
      "execution_count": null,
      "metadata": {
        "id": "Z9YsnMXZRwIR"
      },
      "outputs": [],
      "source": [
        "d = defaultdict(list)\n",
        "print(d)\n",
        "print(d.get(\"new key\", d.default_factory()))\n",
        "print(d)"
      ]
    },
    {
      "cell_type": "markdown",
      "metadata": {
        "id": "ReMovWEyvBqC"
      },
      "source": [
        "Converting an already existing `dict`:"
      ]
    },
    {
      "cell_type": "code",
      "execution_count": null,
      "metadata": {
        "id": "eO-PZAXyvBqC"
      },
      "outputs": [],
      "source": [
        "d1 = {k: \"value\" for k in range(1, 11)}\n",
        "d = defaultdict(float, d1) # convert it to a defaultdict\n",
        "print(d[5])\n",
        "print(d[100])"
      ]
    },
    {
      "cell_type": "markdown",
      "metadata": {
        "id": "Qup8dlervBqC"
      },
      "source": [
        "This doesn't work:"
      ]
    },
    {
      "cell_type": "code",
      "execution_count": null,
      "metadata": {
        "id": "vFdSoDb9vBqD"
      },
      "outputs": [],
      "source": [
        "# d = defaultdict(10)\n",
        "# Throws a TypeError: first argument must be callable or None"
      ]
    },
    {
      "cell_type": "markdown",
      "metadata": {
        "id": "WN4bK1eGvBqD"
      },
      "source": [
        "Use a `lambda` to make the number `10` `callable`\":"
      ]
    },
    {
      "cell_type": "code",
      "execution_count": null,
      "metadata": {
        "id": "BS8vozeYvBqD"
      },
      "outputs": [],
      "source": [
        "d = defaultdict(lambda: 10)\n",
        "print(d)\n",
        "print(d[\"new key\"])\n",
        "print(d)"
      ]
    },
    {
      "cell_type": "code",
      "execution_count": null,
      "metadata": {
        "id": "vegtS6wJvBqE"
      },
      "outputs": [],
      "source": [
        "d = defaultdict(lambda: defaultdict(float))\n",
        "print(d)\n",
        "print(d[\"new key\"])\n",
        "print(d)"
      ]
    },
    {
      "cell_type": "markdown",
      "metadata": {
        "id": "ThZCgTQTo4KJ"
      },
      "source": [
        "Note that in some cases the behaviour of lambda functions might be counterintuitive. One of such cases is the closure: [link1](https://realpython.com/python-lambda/#closure), [link2](https://stackoverflow.com/questions/2295290/what-do-lambda-function-closures-capture)."
      ]
    },
    {
      "cell_type": "code",
      "execution_count": null,
      "metadata": {
        "id": "NKYpXbk2cEw2"
      },
      "outputs": [],
      "source": [
        "# making a shortcut for the read-only get for defaultdict that supports several keys\n",
        "# i.e. defget(d, [k1, k2]) will return the value of d[k1][k2] without altering d\n",
        "def defget(d, keys):\n",
        "    for k in keys:\n",
        "        d = d.get(k, d.default_factory() if isinstance(d, defaultdict) else None) #PATCH\n",
        "    return d\n",
        "\n",
        "# testing if it works as intended\n",
        "d = defaultdict(lambda: defaultdict(int))\n",
        "d[1][1] = 2\n",
        "d[2][1] = 3\n",
        "print(d)\n",
        "print(defget(d, [1, 1]))\n",
        "print(defget(d, [3]))\n",
        "print(defget(d, [3, 1]))\n",
        "print(d)"
      ]
    },
    {
      "cell_type": "markdown",
      "metadata": {
        "id": "6WYXdmJXvBqE"
      },
      "source": [
        "Clever use of a `defaultdict` can be the solution to the problem of data-storing in a smoothing $N$-gram pointed out above:\n",
        "    \n",
        "    d = bigram_frequencies[history] = {w1: 120, w2: 340, w3: 7 ...}\n",
        "    N = sum(d.values())\n",
        "    # d_normalized = .... # normalize d with smoothing applied to elements already in the dictionary  \n",
        "    d_smoothed = defaultdict(lambda: k/(N + kV), d_normalized) # add smoothing to 'unseen' words"
      ]
    },
    {
      "cell_type": "markdown",
      "metadata": {
        "id": "5svCtCyDvBqE"
      },
      "source": [
        "The following function is given to assist you with reading the data from the file in a convenient format. Understand how the function works and figure out how to use it for training n-grams.\n",
        "\n",
        "Note that the function uses padding symbols `<s>` and `</s>` to mark sentence boundaries. **When doing smoothing, include `</s>` in the vocabulary (and unigram models)**, otherwise after smoothing certain conditional probabilities will sum up higher than 1.  \n",
        "🤔 It is a good practice to think of why this would be the case.  "
      ]
    },
    {
      "cell_type": "code",
      "execution_count": null,
      "metadata": {
        "id": "1DnP4YcPvBqF"
      },
      "outputs": [],
      "source": [
        "def read_data(fname, h=1, max_lines=np.inf):\n",
        "    \"\"\"\n",
        "    Reads in the data from a file and returns a vocabulary as a set\n",
        "    and the sentence-padded data as a list of list.\n",
        "\n",
        "    :param fname: path to the file\n",
        "    :param max_lines: the number of top lines to read (can be used for debugging)\n",
        "    :param h: the length of n-gram history\n",
        "    :returns: data as a list of lists and vocabulary as a set\n",
        "    \"\"\"\n",
        "    data = []\n",
        "    start = h * [\"<s>\"]\n",
        "    end = [\"</s>\"]\n",
        "\n",
        "    with open(fname, \"r\") as F:\n",
        "        for k, line in enumerate(F):\n",
        "            # an optional cut-off to read a part of the data\n",
        "            if k > max_lines:\n",
        "                break\n",
        "            words = line.strip().split()\n",
        "            # padding the sentence\n",
        "            sent = start + words + end\n",
        "            data.append(sent)\n",
        "    return data"
      ]
    },
    {
      "cell_type": "markdown",
      "metadata": {
        "id": "3dy2LfV1m3Vg"
      },
      "source": [
        "### train_ngram\n",
        "\n",
        "[15pt] **Complete** the function `train_ngram` so that you can train a count-based $N$-gram language model on the data found in `data/ted-train.txt` and train this for $N=2,3$.\n",
        "\n",
        "[10pt] **Extend** the function `train_ngram` so that it accepts a parameter `k` for optional add-$k$ smoothing (upgrade the same function, don't define new)."
      ]
    },
    {
      "cell_type": "code",
      "execution_count": null,
      "metadata": {
        "id": "UCTtBMxWvBqF"
      },
      "outputs": [],
      "source": [
        "def train_ngram(data, N=2, k=0):\n",
        "    \"\"\"\n",
        "    Trains an n-gram language model with optional add-k smoothing\n",
        "    and additionally returns the unigram model\n",
        "\n",
        "    :param data: text-data as returned by the pre-defined function read_data\n",
        "    :param N: (N>1) the order of the ngram e.g. N=2 gives a bigram\n",
        "    :param k: optional add-k smoothing\n",
        "    :returns: ngram and unigram\n",
        "    \"\"\"\n",
        "    ngram = defaultdict(Counter) # ngram[history][word] = #(history,word)\n",
        "    # for history of length >1, join tokens with a singel white space (see tests below)\n",
        "\n",
        "    ## YOUR CODE HERE ##\n",
        "    ## you can have auxiliary functions if needed, inside of outside this function's scope\n",
        "\n",
        "    # the following line might be useful and its use is optional\n",
        "    # unigram = defaultdict(float, Counter(\"SOME VAR HERE\")) # default prob is 0.0\n",
        "\n",
        "    return ngram, unigram"
      ]
    },
    {
      "cell_type": "code",
      "execution_count": null,
      "metadata": {
        "id": "Scw9yzDYc91M"
      },
      "outputs": [],
      "source": [
        "# This shouldn't take more than 2min\n",
        "Data1 = None ## YOUR CODE HERE ##\n",
        "# use the global variable for the file path\n",
        "# non-smoothed bigram\n",
        "Bigram, Unigram = train_ngram(Data1, N=2, k=0)\n",
        "# smoothed bigram\n",
        "Bigram_sm, Unigram_sm = train_ngram(Data1, N=2, k=1)"
      ]
    },
    {
      "cell_type": "code",
      "execution_count": null,
      "metadata": {
        "id": "CsS5hpWQvBqH"
      },
      "outputs": [],
      "source": [
        "# Running this might take significant amount of memory\n",
        "# Runtime shouldn't take more than 3min\n",
        "Data2 = None ## YOUR CODE HERE ##\n",
        "# non-smoothed trigram\n",
        "Trigram, Unigram_ = train_ngram(Data2, N=3, k=0)\n",
        "# smoothed trigram\n",
        "Trigram_sm, Unigram_sm_ = train_ngram(Data2, N=3, k=1)"
      ]
    },
    {
      "cell_type": "code",
      "execution_count": null,
      "metadata": {
        "id": "2TVjxsuyc91N"
      },
      "outputs": [],
      "source": [
        "#TEST 2.1\n",
        "# Be aware that when getting a value of a non-existing key from defaultdict with d[key] method,\n",
        "# the key gets inserted into the defaultdict. That's why tests use defget\n",
        "assert defget(Bigram, ['all','people']) > 0\n",
        "assert defget(Bigram, ['all','all']) == 0\n",
        "assert defget(Bigram_sm, ['all','all']) == defget(Bigram_sm, ['all','asdasda'])\n",
        "assert defget(Bigram_sm, ['all','asdasda']) > 0\n",
        "assert defget(Trigram, ['<s> <s>','The']) > 0\n",
        "assert defget(Trigram, ['<s> <s>','sun']) == 0\n",
        "assert np.isclose(sum(Trigram['All the'].values()), 1) #almost 1, but not 1 because of float point rounding\n",
        "assert defget(Trigram_sm, ['<s> <s>','sun']) > 0\n",
        "assert defget(Unigram, ['</s>']) > 0\n",
        "assert Unigram == Unigram_\n",
        "assert Unigram_sm == Unigram_sm_"
      ]
    },
    {
      "cell_type": "markdown",
      "metadata": {
        "id": "uHqoEt2zvBqJ"
      },
      "source": [
        "## Ex 2.2 [5pt]\n",
        "\n",
        "You can use an *N*-gram language model to **generate text**. The higher the order *N* the better your model will be able to catch the long-range dependencies that occur in actual sentences and the better your chances are at generating sensible text. But beware: **sparsity** of language data will quickly cause your model to reproduce entire lines from your training data; in such cases, only one $w_k$ was observed for the histories $w_{k-N+1}\\dots w_{k-1}$ in the entire training set."
      ]
    },
    {
      "cell_type": "markdown",
      "metadata": {
        "id": "YbOqa3y5hefa"
      },
      "source": [
        "### Some help\n",
        "\n",
        "**[Hint]** You can use the method of [inverse transform sampling](https://en.wikipedia.org/wiki/Inverse_transform_sampling) to generate a sample from a **categorical distribution**, $p_1\\dots p_k$ such that $p_i \\geq 0$ and $\\sum_{i=1}^k p_i = 1$, as follows:"
      ]
    },
    {
      "cell_type": "code",
      "execution_count": null,
      "metadata": {
        "id": "fman6WFYvBqJ"
      },
      "outputs": [],
      "source": [
        "import random\n",
        "\n",
        "P = [0.2,0.5,0.2,0.1]\n",
        "\n",
        "def sample(P):\n",
        "    u = random.random() # random number between 0 and 1\n",
        "    p = 0\n",
        "    for i, p_i in enumerate(P):\n",
        "        p += p_i\n",
        "        if p > u:\n",
        "            return i # the first i s.t. p1 + ... + pi > u\n",
        "\n",
        "print(sample(P))\n",
        "\n",
        "print(Counter([sample(P) for i in range(1000)])) # check to see if the law of large numbers is still true"
      ]
    },
    {
      "cell_type": "markdown",
      "metadata": {
        "id": "jZBZ2mxTvBqK"
      },
      "source": [
        "Inverse transform sampling in the words of Jurafsky and Martin:\n",
        "\n",
        "> Imagine all the words of the English language covering the probability space\n",
        "between 0 and 1, each word covering an interval proportional to its frequency. We\n",
        "choose a random value between 0 and 1 and print the word whose interval includes\n",
        "this chosen value.\n",
        "\n",
        "(J&M, [section 3.3](https://web.stanford.edu/~jurafsky/slp3/3.pdf#page=10))"
      ]
    },
    {
      "cell_type": "markdown",
      "metadata": {
        "id": "hQiNLmMQhO9q"
      },
      "source": [
        "### generate_sent\n",
        "\n",
        "**Complete** the function `generate_sent`. It takes a language model `lm` and an order `N` and should generate a **natural language string(!)** (it shouldn't contain padding symbols and might not be a grammatical sentence) by **sampling** from the language model."
      ]
    },
    {
      "cell_type": "code",
      "execution_count": null,
      "metadata": {
        "id": "MCD2ezj_vBqK"
      },
      "outputs": [],
      "source": [
        "def generate_sent(lm, N):\n",
        "    \"\"\"\n",
        "    Generates sentence from a language model based on N-grams\n",
        "    :param lm: language model based on N-grams\n",
        "    :param N: denoting N-gram parameter\n",
        "    :returns: a string of natural language tokens where tokens are separated with a space\n",
        "    \"\"\"\n",
        "\n",
        "    ## YOUR CODE HERE ##\n",
        "    ## you can have auxiliary functions if needed, inside of outside this function's scope\n",
        "\n",
        "    raise NotImplementedError(\"Function not implemented yet\")"
      ]
    },
    {
      "cell_type": "code",
      "execution_count": null,
      "metadata": {
        "id": "D0yKCR2xvBqL"
      },
      "outputs": [],
      "source": [
        "#TEST Ex2.2\n",
        "random.seed(42) #uncommnet if you want to make the output non-deterministic\n",
        "\n",
        "print(\"Bigram:\\n\")\n",
        "print(\"\\n\".join([generate_sent(Bigram, 2) for _ in range(5)]))\n",
        "\n",
        "print(\"\\nTrigram:\\n\")\n",
        "print(\"\\n\".join([generate_sent(Trigram, 3) for _ in range(5)]))"
      ]
    },
    {
      "cell_type": "markdown",
      "metadata": {
        "id": "mPmwIHiqvBqL"
      },
      "source": [
        "### [Extra]\n",
        "No points for this\n",
        "\n",
        "For how many of the histories $w_{k-N+1}\\dots w_{k-1}$ is the number of continuations $w_n$ equal to **one**? Calculate the percentage of such cases for the different orders *N*.\n",
        "\n",
        "And which history has the **most possible continuations**?"
      ]
    },
    {
      "cell_type": "code",
      "execution_count": null,
      "metadata": {
        "id": "aYGPyRyRc91S"
      },
      "outputs": [],
      "source": [
        "## YOUR CODE HERE ##"
      ]
    },
    {
      "cell_type": "markdown",
      "metadata": {
        "id": "mmREq7Zhc91S"
      },
      "source": [
        "YOUR ANSWER HERE"
      ]
    },
    {
      "cell_type": "markdown",
      "metadata": {
        "id": "NDjAQzkkvBqM"
      },
      "source": [
        "## Ex 2.3 Smoothing effect [5pt]\n",
        "\n",
        "Let $V$ denote our vocabulary. Recall that for any $w \\in V$ `bigram[w]` defines a conditional probability $p(v|w)$ over $v$ in $V$. In the case of an **unsmoothed bigram**, $p(v|w) = 0$ for most $v\\in V$, whereas in the **smoothed bigram** smoothing took care that $p(v|w) > 0$ for *all* $v$.\n",
        "\n",
        "The function `plot_bigram_dist(word, bigram, smoothbigram, k=30)` plots $p(v|word)$ for the `k` and words $v$. One bar shows the probabilities in `bigram` and one in `smoothbigram`.\n",
        "\n",
        "1. Use `plot_bigram_dist` to plot the bigram distributions for two words, frequent $w_1$ and infrequent $w_2$, i.e., the distributions of $p(v|w_1)$ and $p(v|w_2)$. Adjust the cut-off `n` parameter for better visualization.\n",
        "\n",
        "2. **Compare** the effect of `k=1` smoothing on the bigram distributions of the frequent $w_1$ and infrequent $w_2$ words. Give an informative insight instead of literally describing the plots.\n",
        "\n",
        "3. Now plot the same distributions but with $k$ being much smaller than 1 (but greater than 0!). **Explain and contrast** how the value of $k$ affects the distributions of the frequent $w_1$ and infrequent $w_2$ words. Again, give an informative insight instead of literally describing the plots.\n",
        "\n",
        "While providing the insights, try to be concise and right to the point.\n",
        "\n",
        "\n",
        "**[Hint]** Remember that add-1 smoothing turns\n",
        "$$P(w_n\\mid w_{n-1}) = \\frac{C(w_{n-1}w_{n})}{C(w_{n-1})}$$\n",
        "into\n",
        "$$P_{add-1}(w_n\\mid w_{n-1}) = \\frac{C(w_{n-1}w_{n}) + 1}{C(w_{n-1}) + |V|}.$$"
      ]
    },
    {
      "cell_type": "code",
      "execution_count": null,
      "metadata": {
        "id": "A7RiiRRxvBqM"
      },
      "outputs": [],
      "source": [
        "import pandas as pd\n",
        "import seaborn as sns\n",
        "\n",
        "def plot_bigram_dist(word, bigram, smoothbigram, n=30):\n",
        "    d = bigram[word]\n",
        "    #print(type(d))\n",
        "    ds = smoothbigram[word]\n",
        "\n",
        "    # sort the probabilities\n",
        "    d_sort = sorted(d.items(), reverse=True, key=lambda t: t[1])[0:n]\n",
        "    ds_sort = sorted(ds.items(), reverse=True, key=lambda t: t[1])[0:n]\n",
        "\n",
        "    _, probs = zip(*d_sort)\n",
        "    smooth_ws, smooth_probs = zip(*ds_sort)\n",
        "\n",
        "    # make up for the fact that in the unsmoothed case non-0 probs is generally less than n long\n",
        "    probs = probs + (0,) * (n-len(probs))\n",
        "\n",
        "    w_data = pd.DataFrame({f\"{word}\": smooth_ws * 2,\n",
        "                           f\"P(w|{word})\": probs + smooth_probs,\n",
        "                           \"smoothing\": [\"unsmoothed\"]*n + [\"smoothed\"]*n})\n",
        "\n",
        "    fig, ax = plt.subplots(figsize=(12,5))\n",
        "    plt.xticks(rotation=90)\n",
        "    g = sns.barplot(ax=ax, x=f\"{word}\", y=f\"P(w|{word})\", hue=\"smoothing\",\n",
        "                    data=w_data, palette=\"Blues_d\")"
      ]
    },
    {
      "cell_type": "code",
      "execution_count": null,
      "metadata": {
        "id": "rKH3i7FTvBqN"
      },
      "outputs": [],
      "source": [
        "# Use these variables\n",
        "Freq_word, Infreq_word = None, None\n",
        "\n",
        "## YOUR CODE HERE ##"
      ]
    },
    {
      "cell_type": "code",
      "execution_count": null,
      "metadata": {
        "id": "48XochmkvBqO"
      },
      "outputs": [],
      "source": [
        "# Use this K value and reuse Freq_word, Infreq_word\n",
        "Small_k = 0.01"
      ]
    },
    {
      "cell_type": "markdown",
      "metadata": {
        "id": "hN2uU1PxvBqN"
      },
      "source": [
        "█████ YOUR ANSWER HERE █████"
      ]
    },
    {
      "cell_type": "markdown",
      "metadata": {
        "id": "-l9-iEXFvBqP"
      },
      "source": [
        "## Ex 2.4 Train sent. prob. [5pt]\n",
        "\n",
        "**Recall** that if we have a sentence $w_1,\\dots,w_n$ we can write\n",
        "\n",
        "$$P(w_1\\dots w_n) = P(w_1)P(w_2|w_1) \\cdots P(w_n|w_1 \\dots w_{n-1}) \\approx P(w_1)P(w_2|w_1)\\cdots P(w_n|w_{n-(N-1)}\\dots w_{n-1})\\prod_{i=1}^{n} P(w_i|w_{i-(N-1)}\\dots w_{i-1})$$\n",
        "\n",
        "where in the last step we make an $N$-gram approximation of the full conditionals.\n",
        "\n",
        "For example, in the case of a bigram (N=2), the above expression reduces to\n",
        "\n",
        "$$P(w_1 \\dots w_n)\\approx P(w_1)\\prod_{i=2}^{n} P(w_i| w_{i-1}).$$\n",
        "\n",
        "The following sentences are taken from the **training data**. Use your **unsmoothed unigram**, **bigram**, and **trigram** language model to estimate their **probabilities**:\n",
        "\n",
        "    1. Every day was about creating something new .\n",
        "    2. In this machine , a beam of protons and anti-protons are accelerated to near the speed of light and brought together in a collision , producing a burst of pure energy ."
      ]
    },
    {
      "cell_type": "code",
      "execution_count": null,
      "metadata": {
        "id": "UdoNkywsvBqQ"
      },
      "outputs": [],
      "source": [
        "def sent_prob(sent, lm, N):\n",
        "    \"\"\"\n",
        "    Calculates probability of sent based on the N-gram language mode lm\n",
        "    :param sent: tokenized sentence string\n",
        "    :param lm: N-gram language model\n",
        "    :param N: N-gram size\n",
        "    :returns: probabilitity number\n",
        "    \"\"\"\n",
        "    ## YOUR CODE HERE ##\n",
        "\n",
        "    return prob"
      ]
    },
    {
      "cell_type": "code",
      "execution_count": null,
      "metadata": {
        "id": "9fIwnQCkc91V"
      },
      "outputs": [],
      "source": [
        "# Print all the abovemnetioned probabilities.\n",
        "# The cell output should make it clear what number stands for which probability.\n",
        "# Reuse the variables Unigram, Unigram_sm, Bigram, Bigram_sm, Trigram, and Trigram_sm.\n",
        "\n",
        "Sents_from_train = (\n",
        "    \"Every day was about creating something new .\",\n",
        "    \"In this machine , a beam of protons and anti-protons are accelerated to near the speed of light and brought together in a collision , producing a burst of pure energy .\"\n",
        ")\n",
        "\n",
        "## YOUR CODE HERE ##"
      ]
    },
    {
      "cell_type": "markdown",
      "metadata": {
        "id": "uMS37P4azImr"
      },
      "source": [
        "**Repeat** this with the **smoothed (add-1)** versions of the N-grams (in the same above code cell).   \n",
        "**What** is the effect of smoothing on the probabilities and **how** the effect compare across the different $N$-grams models? Provide explanations for the effect and the comparison."
      ]
    },
    {
      "cell_type": "markdown",
      "metadata": {
        "id": "qC_RnO1_vBqQ"
      },
      "source": [
        "█████ YOUR ANSWER HERE █████"
      ]
    },
    {
      "cell_type": "markdown",
      "metadata": {
        "id": "6YFJJ2ThvBqR"
      },
      "source": [
        "## Ex 2.5 Test sent. prob. [3pt]\n",
        "\n",
        "The above sentences were taken from the training set, hence they will all have a probability greater than 0. The big challenge for our language model are of course with the sentences that contain unseen N-grams: if such an N-gram occurs our model immediately assigns the sentence probability zero.\n",
        "\n",
        "The following sentences are taken from the **test set** available in the file **ted-test.txt**.  \n",
        "**Print** the probabilities of the sentences based on the smoothed and unsmoothed language models.\n",
        "\n",
        "    1. Because these robots are really safe .\n",
        "    2. We have sheer nothingness on one side , and we have this vision of a reality that encompasses every conceivable world at the other extreme : the fullest possible reality , nothingness , the simplest possible reality ."
      ]
    },
    {
      "cell_type": "code",
      "execution_count": null,
      "metadata": {
        "id": "g3_00-2qvBqR"
      },
      "outputs": [],
      "source": [
        "# Print all the abovemnetioned probabilities.\n",
        "# The cell output should make it clear what number stands for which probability.\n",
        "# Reuse the variables Unigram, Unigram_sm, Bigram, Bigram_sm, Trigram, and Trigram_sm.\n",
        "\n",
        "Sents_from_test = (\n",
        "    \"Because these robots are really safe .\",\n",
        "    \"We have sheer nothingness on one side , and we have this vision of a reality that encompasses every conceivable world at the other extreme : the fullest possible reality , nothingness , the simplest possible reality .\"\n",
        ")\n",
        "### YOUR CODE HERE ###"
      ]
    },
    {
      "cell_type": "markdown",
      "metadata": {
        "id": "yXJZrc6bD3X-"
      },
      "source": [
        "**Contrast** the smoothed and unsmoothed probabilities and **explain** the drastic changes (if any) in terms of unseen tokens and sequences."
      ]
    },
    {
      "cell_type": "markdown",
      "metadata": {
        "id": "wy10zAGgvBqR"
      },
      "source": [
        "█████ YOUR ANSWER HERE █████"
      ]
    },
    {
      "cell_type": "markdown",
      "metadata": {
        "id": "9x4nV5NVvBqS"
      },
      "source": [
        "### [Extra]\n",
        "\n",
        "**Optional** What percentage of the sentences in the test set get assigned probability 0 under your smoothed and unsmoothed language models?"
      ]
    },
    {
      "cell_type": "code",
      "execution_count": null,
      "metadata": {
        "collapsed": true,
        "id": "RZY0PfSlvBqS"
      },
      "outputs": [],
      "source": [
        "### ANSWER HERE ###"
      ]
    },
    {
      "cell_type": "markdown",
      "metadata": {
        "id": "u7HXaUKivBqS"
      },
      "source": [
        "## Ex 2.6 Perplexity [5pt]\n",
        "\n",
        "**Perplexity** is very frequently used **metric** for evaluating probabilistic models such as language models. The perplexity (sometimes called **PP** for short) of a language model on a sentence is the **inverse probability** of the sentence, **normalized** by the number of words:\n",
        "\n",
        "$$PP(w_1 \\dots w_n) = P(w_1\\dots w_n)^{-\\frac{1}{n}}.$$\n",
        "\n",
        "Here we can again approximate $P(w_1 \\dots w_n)$ with N-gram probabilities, as above.\n",
        "\n",
        "Note: Calculation of perplexity has resemblance with the **geometric mean** $(x_1\\cdots x_n)^{-\\frac{1}{n}}$ of the numbers $x_1,\\dots,x_n$. It is like the (regular) arithmetic mean, but with **products** instead of **sums**. The geometric mean is a more natural choice in the case of *PP* because behind $P(w_1\\dots w_n)$ is a series of $n$ products ([more here](https://en.wikipedia.org/wiki/Geometric_mean)).\n",
        "\n",
        "\n",
        "\n",
        "Compute the perplexity of the sentences in the training data (from exercise 2.1) based on the smoothed bigram language model. It is recommended to use `sent_prob` from Ex2.4.\n",
        "\n",
        "What big difference between the **probabilities** of the sentences and the **perplexities** of the sentences do you notice?  \n",
        "**Provide** a strong evidence (e.g., a concrete example or a plot) and **explain** the difference."
      ]
    },
    {
      "cell_type": "code",
      "execution_count": null,
      "metadata": {
        "id": "8kPgFt0SvBqS"
      },
      "outputs": [],
      "source": [
        "# Feel free to reuse functions and variables form the previous exercises\n",
        "\n",
        "### YOUR CODE HERE ###"
      ]
    },
    {
      "cell_type": "markdown",
      "metadata": {
        "id": "2bWMxWTwvBqT"
      },
      "source": [
        "█████ YOUR ANSWER HERE █████"
      ]
    },
    {
      "cell_type": "markdown",
      "metadata": {
        "id": "_lZOzaX5vBqT"
      },
      "source": [
        "# That's it!\n",
        "\n",
        "Congratulations, you have made it to the end of the tutorial. Here we will recap the gist of this notebook.\n",
        "\n",
        "**Make sure all your cells can be executed and all your answers are there. Then, read on if you're interested!**\n",
        "\n",
        "-----\n",
        "\n",
        "By now you should have a solid feeling for the problem of **sparsity in language data**; there's just never enough data. For the task of language modelling, we saw that sparsity is a serious challenge.\n",
        "\n",
        "It would be great to be able to model $p(w_n|w_1 \\dots w_{n-1})$ for unlimited $n$: the larger $n$ the better our language model should become at capturing the long-range dependencies between words that characterize actual human sentences, and the more probability our model will assign to such sentences as opposed to sentences that are word-soup. But in the N-gram approach, increasing $n$ will quickly kill all generalizing abilities of the model: the model will start to assign probabilities only to sentences it has seen in the training data.\n",
        "\n",
        "So, where to go from here? Here are three directions that we could head in.\n",
        "\n",
        "### Smoothing\n",
        "\n",
        "We have seen one example of smoothing in this lab: add-k smoothing. This is an easy method, both conceptually and implementation-wise. But the results are not great, and the effects it has on the distributions can be extreme.\n",
        "\n",
        "A much more sophisticated method of smoothing is **Kneser-Ney smoothing**. The method is described in detail in section 4.5 of J&M (3rd edition). This is one of the best-performing N-gram smoothing methods, and up to a few years ago, a popular implementation of it called [KenLM](https://kheafield.com/code/kenlm/) gave state-of-the-art results.\n",
        "\n",
        "### From words to characters\n",
        "\n",
        "In this lab we have considered language modeling as the task of predicting a **word** $w_n$ based on a history of **words** $w_1\\cdots w_n$. What if instead we let our basic units of modelling be **characters**? The task then becomes to model $p(c_k\\mid c_{k-N-1}\\dots c_{k-1})$ where each $c_i$ is now an ASCII character instead of an entire word.\n",
        "\n",
        "Suddenly sparsity of data is no longer a problem! The set of characters to use is tiny (< 100) compared to even a small-sized vocabulary as today. Have a look at this very illustrative notebook written by Yoav Golberg to see such a method in action: [The unreasonable effectiveness of Character-level Language Models](http://nbviewer.jupyter.org/gist/yoavg/d76121dfde2618422139).\n",
        "\n",
        "(So what is the downside?)\n",
        "\n",
        "\n",
        "### Neural language models\n",
        "\n",
        "The above notebook was actually written as a response to this blog post by Andrej Karpathy: [The Unreasonable Effectiveness of Recurrent Neural Networks](http://karpathy.github.io/2015/05/21/rnn-effectiveness/). Go ahead and read it if you haven't already: it is a superb introduction to the topic of Recurrent Neural Networks.\n",
        "\n",
        "Neural language models solve the problem of data sparsity in a different manner. Instead of estimating the probabilities $p(w_k\\mid w_{k-N-1}\\dots w_{k-1})$ by counting occurrences in the data, they use a neural network $f_{\\theta}$ parametrized by parameters $\\theta$ to predict this probability. The parameters $\\theta$ are learned through optimization.\n",
        "\n",
        "The simplest approach goes like this: each word in the history $w_{k-N-1}\\dots w_{k-1}$ is embedded separately giving vectors $e_{k-N-1}\\dots e_{k-1}$ and then concatenated into one long vector $[e_{k-N-1};\\dots ;e_{k-1}]$. The network then uses this history vector to predict a probability distribution over words $w$ in the vocabulary $V$:\n",
        "\n",
        "$$p(w \\mid w_{k-N-1}\\dots w_{k-1}) = f_{\\theta}([e_{k-N-1};\\dots;e_{k-1}]).$$\n",
        "\n",
        "(In order to produce legitimate probabilities the final layer of such a network will be for example a $softmax$.)\n",
        "\n",
        "This provides a solution to the sparsity problem by having the network let the individual embeddings of the words in the history interact through its non-linear transformation. We are letting the network figure out the smoothing itself!\n",
        "\n",
        "RNNs are a clever extension of this idea, where a hidden state vector $h$ is re-used and updated at each step $k$ in order to store the information of the entire history up to step $k-1$. That is, an RNN actually does away with the N-order approximation; it tries to model the full conditional directly! That means that\n",
        "\n",
        "$$p(w \\mid w_1\\dots w_{k-1}) \\approx RNN_{\\theta}([e_{k-1};h_{k-1}])$$\n",
        "\n",
        "where the hidden state $h_{k-1}$ is a compression of the *entire history* $w_1\\dots w_{k-1}$.\n",
        "\n",
        "Another great place to learn about RNNs, their problems, and solutions to those, is on the blog of [Christopher Olah](http://colah.github.io/posts/2015-08-Understanding-LSTMs/).\n",
        "\n",
        "-----------\n",
        "(And now, it's time to read the classic essay by Eugene Wigner that gave both of the posts their title: [The Unreasonable Effectiveness of Mathematics in the Natural Sciences](http://www.dartmouth.edu/~matc/MathDrama/reading/Wigner.html))"
      ]
    },
    {
      "cell_type": "markdown",
      "metadata": {
        "id": "acBrUUTFFdHr"
      },
      "source": [
        "# Acknowledgments\n",
        "\n",
        "Most of this lab was developed in collaboration with Joost Bastings and Dan Douwe.  \n",
        "Later it was revised by a couple of people.  \n",
        "The recent updates by Lasha Abzianidze make the notebook more streamlined and foolproof from the grading and the large course perspectives."
      ]
    }
  ],
  "metadata": {
    "anaconda-cloud": {},
    "colab": {
      "collapsed_sections": [
        "9x4nV5NVvBqS"
      ],
      "provenance": [],
      "toc_visible": true
    },
    "kernelspec": {
      "display_name": "Python 3 (ipykernel)",
      "language": "python",
      "name": "python3"
    },
    "language_info": {
      "codemirror_mode": {
        "name": "ipython",
        "version": 3
      },
      "file_extension": ".py",
      "mimetype": "text/x-python",
      "name": "python",
      "nbconvert_exporter": "python",
      "pygments_lexer": "ipython3",
      "version": "3.10.11"
    },
    "toc": {
      "base_numbering": 1,
      "nav_menu": {},
      "number_sections": true,
      "sideBar": true,
      "skip_h1_title": false,
      "title_cell": "Table of Contents",
      "title_sidebar": "Contents",
      "toc_cell": false,
      "toc_position": {},
      "toc_section_display": true,
      "toc_window_display": false
    }
  },
  "nbformat": 4,
  "nbformat_minor": 0
}
